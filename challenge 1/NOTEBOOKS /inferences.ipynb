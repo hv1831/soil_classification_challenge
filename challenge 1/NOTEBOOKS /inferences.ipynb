"""

Author: Annam.ai IIT Ropar
Team Name: Harshavardhni Murugesan
Team Members: solo
Leaderboard Rank: 98

"""
This is the code used to make the inferences of the model .


# Load label mapping
id2label = {i: label for i, label in enumerate(label_encoder.classes_)}

# Load the best saved model
model.load_state_dict(torch.load("best_model.pth"))
model.eval()

# Prepare test data loader
test_loader = DataLoader(test_dataset, batch_size=32, shuffle=False, num_workers=2)

# Run inference
all_preds = []

with torch.no_grad():
    for images in test_loader:
        images = images.to(device)
        outputs = model(images)
        _, preds = torch.max(outputs, 1)
        all_preds.extend(preds.cpu().numpy())

# Add predictions to test DataFrame
test_df['label_id'] = all_preds
test_df['label'] = test_df['label_id'].map(id2label)

# Create submission file
submission = test_df.rename(columns={"image_id": "filename"})[['filename', 'label']]
submission.to_csv("submission.csv", index=False)

print(" Submission file 'submission.csv' created!")


