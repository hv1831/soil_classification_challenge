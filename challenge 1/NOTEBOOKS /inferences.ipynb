"""

Author: Annam.ai IIT Ropar
Team Name: Harshavardhni Murugesan
Team Members: solo
Leaderboard Rank: 98

"""



